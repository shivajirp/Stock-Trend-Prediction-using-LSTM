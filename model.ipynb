{
 "cells": [
  {
   "cell_type": "code",
   "execution_count": 1,
   "metadata": {},
   "outputs": [],
   "source": [
    "import numpy as np\n",
    "import matplotlib.pyplot as plt\n",
    "import pandas as pd\n",
    "import yfinance as yf\n",
    "from sklearn.preprocessing import MinMaxScaler"
   ]
  },
  {
   "cell_type": "code",
   "execution_count": 2,
   "metadata": {},
   "outputs": [
    {
     "name": "stdout",
     "output_type": "stream",
     "text": [
      "[*********************100%%**********************]  1 of 1 completed\n"
     ]
    }
   ],
   "source": [
    "# downloading the data from yahoo finance\n",
    "data = yf.download('AAPL', '2010-1-1')"
   ]
  },
  {
   "cell_type": "code",
   "execution_count": 3,
   "metadata": {},
   "outputs": [
    {
     "data": {
      "text/html": [
       "<div>\n",
       "<style scoped>\n",
       "    .dataframe tbody tr th:only-of-type {\n",
       "        vertical-align: middle;\n",
       "    }\n",
       "\n",
       "    .dataframe tbody tr th {\n",
       "        vertical-align: top;\n",
       "    }\n",
       "\n",
       "    .dataframe thead th {\n",
       "        text-align: right;\n",
       "    }\n",
       "</style>\n",
       "<table border=\"1\" class=\"dataframe\">\n",
       "  <thead>\n",
       "    <tr style=\"text-align: right;\">\n",
       "      <th></th>\n",
       "      <th>Open</th>\n",
       "      <th>High</th>\n",
       "      <th>Low</th>\n",
       "      <th>Close</th>\n",
       "      <th>Adj Close</th>\n",
       "      <th>Volume</th>\n",
       "    </tr>\n",
       "    <tr>\n",
       "      <th>Date</th>\n",
       "      <th></th>\n",
       "      <th></th>\n",
       "      <th></th>\n",
       "      <th></th>\n",
       "      <th></th>\n",
       "      <th></th>\n",
       "    </tr>\n",
       "  </thead>\n",
       "  <tbody>\n",
       "    <tr>\n",
       "      <th>2010-01-04</th>\n",
       "      <td>7.622500</td>\n",
       "      <td>7.660714</td>\n",
       "      <td>7.585000</td>\n",
       "      <td>7.643214</td>\n",
       "      <td>6.487532</td>\n",
       "      <td>493729600</td>\n",
       "    </tr>\n",
       "    <tr>\n",
       "      <th>2010-01-05</th>\n",
       "      <td>7.664286</td>\n",
       "      <td>7.699643</td>\n",
       "      <td>7.616071</td>\n",
       "      <td>7.656429</td>\n",
       "      <td>6.498750</td>\n",
       "      <td>601904800</td>\n",
       "    </tr>\n",
       "    <tr>\n",
       "      <th>2010-01-06</th>\n",
       "      <td>7.656429</td>\n",
       "      <td>7.686786</td>\n",
       "      <td>7.526786</td>\n",
       "      <td>7.534643</td>\n",
       "      <td>6.395379</td>\n",
       "      <td>552160000</td>\n",
       "    </tr>\n",
       "    <tr>\n",
       "      <th>2010-01-07</th>\n",
       "      <td>7.562500</td>\n",
       "      <td>7.571429</td>\n",
       "      <td>7.466071</td>\n",
       "      <td>7.520714</td>\n",
       "      <td>6.383557</td>\n",
       "      <td>477131200</td>\n",
       "    </tr>\n",
       "    <tr>\n",
       "      <th>2010-01-08</th>\n",
       "      <td>7.510714</td>\n",
       "      <td>7.571429</td>\n",
       "      <td>7.466429</td>\n",
       "      <td>7.570714</td>\n",
       "      <td>6.425994</td>\n",
       "      <td>447610800</td>\n",
       "    </tr>\n",
       "  </tbody>\n",
       "</table>\n",
       "</div>"
      ],
      "text/plain": [
       "                Open      High       Low     Close  Adj Close     Volume\n",
       "Date                                                                    \n",
       "2010-01-04  7.622500  7.660714  7.585000  7.643214   6.487532  493729600\n",
       "2010-01-05  7.664286  7.699643  7.616071  7.656429   6.498750  601904800\n",
       "2010-01-06  7.656429  7.686786  7.526786  7.534643   6.395379  552160000\n",
       "2010-01-07  7.562500  7.571429  7.466071  7.520714   6.383557  477131200\n",
       "2010-01-08  7.510714  7.571429  7.466429  7.570714   6.425994  447610800"
      ]
     },
     "execution_count": 3,
     "metadata": {},
     "output_type": "execute_result"
    }
   ],
   "source": [
    "data.head()"
   ]
  },
  {
   "cell_type": "code",
   "execution_count": 4,
   "metadata": {},
   "outputs": [
    {
     "data": {
      "text/plain": [
       "[<matplotlib.lines.Line2D at 0x245094ab460>]"
      ]
     },
     "execution_count": 4,
     "metadata": {},
     "output_type": "execute_result"
    },
    {
     "data": {
      "image/png": "[encoded data removed]",
      "text/plain": [
       "<Figure size 640x480 with 1 Axes>"
      ]
     },
     "metadata": {},
     "output_type": "display_data"
    }
   ],
   "source": [
    "plt.plot(data.Close)"
   ]
  },
  {
   "cell_type": "code",
   "execution_count": 5,
   "metadata": {},
   "outputs": [],
   "source": [
    "# converting index\n",
    "\n",
    "data = data.reset_index()"
   ]
  },
  {
   "cell_type": "code",
   "execution_count": 6,
   "metadata": {},
   "outputs": [
    {
     "data": {
      "text/html": [
       "<div>\n",
       "<style scoped>\n",
       "    .dataframe tbody tr th:only-of-type {\n",
       "        vertical-align: middle;\n",
       "    }\n",
       "\n",
       "    .dataframe tbody tr th {\n",
       "        vertical-align: top;\n",
       "    }\n",
       "\n",
       "    .dataframe thead th {\n",
       "        text-align: right;\n",
       "    }\n",
       "</style>\n",
       "<table border=\"1\" class=\"dataframe\">\n",
       "  <thead>\n",
       "    <tr style=\"text-align: right;\">\n",
       "      <th></th>\n",
       "      <th>Date</th>\n",
       "      <th>Open</th>\n",
       "      <th>High</th>\n",
       "      <th>Low</th>\n",
       "      <th>Close</th>\n",
       "      <th>Adj Close</th>\n",
       "      <th>Volume</th>\n",
       "    </tr>\n",
       "  </thead>\n",
       "  <tbody>\n",
       "    <tr>\n",
       "      <th>0</th>\n",
       "      <td>2010-01-04</td>\n",
       "      <td>7.622500</td>\n",
       "      <td>7.660714</td>\n",
       "      <td>7.585000</td>\n",
       "      <td>7.643214</td>\n",
       "      <td>6.487532</td>\n",
       "      <td>493729600</td>\n",
       "    </tr>\n",
       "    <tr>\n",
       "      <th>1</th>\n",
       "      <td>2010-01-05</td>\n",
       "      <td>7.664286</td>\n",
       "      <td>7.699643</td>\n",
       "      <td>7.616071</td>\n",
       "      <td>7.656429</td>\n",
       "      <td>6.498750</td>\n",
       "      <td>601904800</td>\n",
       "    </tr>\n",
       "    <tr>\n",
       "      <th>2</th>\n",
       "      <td>2010-01-06</td>\n",
       "      <td>7.656429</td>\n",
       "      <td>7.686786</td>\n",
       "      <td>7.526786</td>\n",
       "      <td>7.534643</td>\n",
       "      <td>6.395379</td>\n",
       "      <td>552160000</td>\n",
       "    </tr>\n",
       "    <tr>\n",
       "      <th>3</th>\n",
       "      <td>2010-01-07</td>\n",
       "      <td>7.562500</td>\n",
       "      <td>7.571429</td>\n",
       "      <td>7.466071</td>\n",
       "      <td>7.520714</td>\n",
       "      <td>6.383557</td>\n",
       "      <td>477131200</td>\n",
       "    </tr>\n",
       "    <tr>\n",
       "      <th>4</th>\n",
       "      <td>2010-01-08</td>\n",
       "      <td>7.510714</td>\n",
       "      <td>7.571429</td>\n",
       "      <td>7.466429</td>\n",
       "      <td>7.570714</td>\n",
       "      <td>6.425994</td>\n",
       "      <td>447610800</td>\n",
       "    </tr>\n",
       "  </tbody>\n",
       "</table>\n",
       "</div>"
      ],
      "text/plain": [
       "        Date      Open      High       Low     Close  Adj Close     Volume\n",
       "0 2010-01-04  7.622500  7.660714  7.585000  7.643214   6.487532  493729600\n",
       "1 2010-01-05  7.664286  7.699643  7.616071  7.656429   6.498750  601904800\n",
       "2 2010-01-06  7.656429  7.686786  7.526786  7.534643   6.395379  552160000\n",
       "3 2010-01-07  7.562500  7.571429  7.466071  7.520714   6.383557  477131200\n",
       "4 2010-01-08  7.510714  7.571429  7.466429  7.570714   6.425994  447610800"
      ]
     },
     "execution_count": 6,
     "metadata": {},
     "output_type": "execute_result"
    }
   ],
   "source": [
    "data.head()"
   ]
  },
  {
   "cell_type": "code",
   "execution_count": 7,
   "metadata": {},
   "outputs": [
    {
     "data": {
      "text/html": [
       "<div>\n",
       "<style scoped>\n",
       "    .dataframe tbody tr th:only-of-type {\n",
       "        vertical-align: middle;\n",
       "    }\n",
       "\n",
       "    .dataframe tbody tr th {\n",
       "        vertical-align: top;\n",
       "    }\n",
       "\n",
       "    .dataframe thead th {\n",
       "        text-align: right;\n",
       "    }\n",
       "</style>\n",
       "<table border=\"1\" class=\"dataframe\">\n",
       "  <thead>\n",
       "    <tr style=\"text-align: right;\">\n",
       "      <th></th>\n",
       "      <th>Close</th>\n",
       "    </tr>\n",
       "  </thead>\n",
       "  <tbody>\n",
       "    <tr>\n",
       "      <th>2401</th>\n",
       "      <td>50.647499</td>\n",
       "    </tr>\n",
       "    <tr>\n",
       "      <th>2402</th>\n",
       "      <td>51.805000</td>\n",
       "    </tr>\n",
       "    <tr>\n",
       "      <th>2403</th>\n",
       "      <td>52.209999</td>\n",
       "    </tr>\n",
       "    <tr>\n",
       "      <th>2404</th>\n",
       "      <td>52.167500</td>\n",
       "    </tr>\n",
       "    <tr>\n",
       "      <th>2405</th>\n",
       "      <td>51.755001</td>\n",
       "    </tr>\n",
       "  </tbody>\n",
       "</table>\n",
       "</div>"
      ],
      "text/plain": [
       "          Close\n",
       "2401  50.647499\n",
       "2402  51.805000\n",
       "2403  52.209999\n",
       "2404  52.167500\n",
       "2405  51.755001"
      ]
     },
     "execution_count": 7,
     "metadata": {},
     "output_type": "execute_result"
    }
   ],
   "source": [
    "# Classifying into training and testing data\n",
    "\n",
    "training = pd.DataFrame(data['Close'][0 : int(len(data.Close)*0.7)])\n",
    "testing = pd.DataFrame(data['Close'][int(len(data.Close)*0.7) : len(data.Close)])\n",
    "training.tail()\n",
    "testing.head()"
   ]
  },
  {
   "cell_type": "code",
   "execution_count": 8,
   "metadata": {},
   "outputs": [],
   "source": [
    "# Scaling down the data to a range of (0,1)\n",
    "\n",
    "scaler = MinMaxScaler(feature_range=(0,1))"
   ]
  },
  {
   "cell_type": "code",
   "execution_count": 9,
   "metadata": {},
   "outputs": [
    {
     "data": {
      "text/plain": [
       "array([[0.01533047],\n",
       "       [0.01558878],\n",
       "       [0.01320823],\n",
       "       ...,\n",
       "       [0.86527181],\n",
       "       [0.85965206],\n",
       "       [0.87094048]])"
      ]
     },
     "execution_count": 9,
     "metadata": {},
     "output_type": "execute_result"
    }
   ],
   "source": [
    "# below method will convert the data into array\n",
    "\n",
    "train_array = scaler.fit_transform(training)\n",
    "train_array"
   ]
  },
  {
   "cell_type": "code",
   "execution_count": 10,
   "metadata": {},
   "outputs": [
    {
     "data": {
      "text/plain": [
       "(2401, 1)"
      ]
     },
     "execution_count": 10,
     "metadata": {},
     "output_type": "execute_result"
    }
   ],
   "source": [
    "train_array.shape"
   ]
  },
  {
   "cell_type": "code",
   "execution_count": 11,
   "metadata": {},
   "outputs": [],
   "source": [
    "# Defining X_train and y_train\n",
    "\n",
    "X_train = []\n",
    "y_train = []\n",
    "\n",
    "for i in range(100, train_array.shape[0]):\n",
    "    X_train.append(train_array[i-100 : i])\n",
    "    y_train.append(train_array[i,0])\n",
    "\n",
    "#  converting the list to numpy array\n",
    "X_train, y_train = np.array(X_train), np.array(y_train)"
   ]
  },
  {
   "attachments": {},
   "cell_type": "markdown",
   "metadata": {},
   "source": [
    "LSTM MODEL"
   ]
  },
  {
   "cell_type": "code",
   "execution_count": 12,
   "metadata": {},
   "outputs": [],
   "source": [
    "from keras.layers import LSTM, Dense, Dropout\n",
    "from keras.models import Sequential"
   ]
  },
  {
   "cell_type": "code",
   "execution_count": 13,
   "metadata": {},
   "outputs": [
    {
     "data": {
      "text/plain": [
       "(2301, 100, 1)"
      ]
     },
     "execution_count": 13,
     "metadata": {},
     "output_type": "execute_result"
    }
   ],
   "source": [
    "X_train.shape"
   ]
  },
  {
   "cell_type": "code",
   "execution_count": 14,
   "metadata": {},
   "outputs": [],
   "source": [
    "# Making Layers\n",
    "\n",
    "model = Sequential()\n",
    "\n",
    "model.add(LSTM(units=64, activation='relu', return_sequences=True, input_shape=(X_train.shape[1], 1)))\n",
    "model.add(Dropout(0.2))\n",
    "\n",
    "model.add(LSTM(units=128, activation='relu', return_sequences=True))\n",
    "model.add(Dropout(0.3))\n",
    "\n",
    "model.add(LSTM(units=128, activation='relu', return_sequences=True))\n",
    "model.add(Dropout(0.4))\n",
    "\n",
    "model.add(LSTM(units=265, activation='relu'))\n",
    "model.add(Dropout(0.5))\n",
    "\n",
    "model.add(Dense(units=1))\n"
   ]
  },
  {
   "cell_type": "code",
   "execution_count": 15,
   "metadata": {},
   "outputs": [
    {
     "name": "stdout",
     "output_type": "stream",
     "text": [
      "Epoch 1/50\n",
      "72/72 [==============================] - 33s 395ms/step - loss: 0.0550\n",
      "Epoch 2/50\n",
      "72/72 [==============================] - 26s 355ms/step - loss: 0.0050\n",
      "Epoch 3/50\n",
      "72/72 [==============================] - 28s 383ms/step - loss: 0.0043\n",
      "Epoch 4/50\n",
      "72/72 [==============================] - 25s 347ms/step - loss: 0.0037\n",
      "Epoch 5/50\n",
      "72/72 [==============================] - 24s 334ms/step - loss: 0.0037\n",
      "Epoch 6/50\n",
      "72/72 [==============================] - 24s 338ms/step - loss: 0.0042\n",
      "Epoch 7/50\n",
      "72/72 [==============================] - 24s 338ms/step - loss: 0.0033\n",
      "Epoch 8/50\n",
      "72/72 [==============================] - 24s 335ms/step - loss: 0.0032\n",
      "Epoch 9/50\n",
      "72/72 [==============================] - 25s 344ms/step - loss: 0.0032\n",
      "Epoch 10/50\n",
      "72/72 [==============================] - 25s 341ms/step - loss: 0.0032\n",
      "Epoch 11/50\n",
      "72/72 [==============================] - 24s 335ms/step - loss: 0.0030\n",
      "Epoch 12/50\n",
      "72/72 [==============================] - 25s 351ms/step - loss: 0.0029\n",
      "Epoch 13/50\n",
      "72/72 [==============================] - 28s 389ms/step - loss: 0.0026\n",
      "Epoch 14/50\n",
      "72/72 [==============================] - 25s 348ms/step - loss: 0.0024\n",
      "Epoch 15/50\n",
      "72/72 [==============================] - 25s 351ms/step - loss: 0.0025\n",
      "Epoch 16/50\n",
      "72/72 [==============================] - 37s 513ms/step - loss: 0.0024\n",
      "Epoch 17/50\n",
      "72/72 [==============================] - 27s 378ms/step - loss: 0.0024\n",
      "Epoch 18/50\n",
      "72/72 [==============================] - 27s 379ms/step - loss: 0.0024\n",
      "Epoch 19/50\n",
      "72/72 [==============================] - 27s 372ms/step - loss: 0.0023\n",
      "Epoch 20/50\n",
      "72/72 [==============================] - 27s 375ms/step - loss: 0.0022\n",
      "Epoch 21/50\n",
      "72/72 [==============================] - 27s 372ms/step - loss: 0.0021\n",
      "Epoch 22/50\n",
      "72/72 [==============================] - 28s 389ms/step - loss: 0.0019\n",
      "Epoch 23/50\n",
      "72/72 [==============================] - 27s 380ms/step - loss: 0.0022\n",
      "Epoch 24/50\n",
      "72/72 [==============================] - 28s 382ms/step - loss: 0.0020\n",
      "Epoch 25/50\n",
      "72/72 [==============================] - 30s 409ms/step - loss: 0.0019\n",
      "Epoch 26/50\n",
      "72/72 [==============================] - 30s 408ms/step - loss: 0.0019\n",
      "Epoch 27/50\n",
      "72/72 [==============================] - 30s 420ms/step - loss: 0.0018\n",
      "Epoch 28/50\n",
      "72/72 [==============================] - 30s 411ms/step - loss: 0.0017\n",
      "Epoch 29/50\n",
      "72/72 [==============================] - 28s 383ms/step - loss: 0.0018\n",
      "Epoch 30/50\n",
      "72/72 [==============================] - 27s 377ms/step - loss: 0.0018\n",
      "Epoch 31/50\n",
      "72/72 [==============================] - 31s 437ms/step - loss: 0.0017\n",
      "Epoch 32/50\n",
      "72/72 [==============================] - 28s 381ms/step - loss: 0.0018\n",
      "Epoch 33/50\n",
      "72/72 [==============================] - 27s 379ms/step - loss: 0.0017\n",
      "Epoch 34/50\n",
      "72/72 [==============================] - 28s 392ms/step - loss: 0.0016\n",
      "Epoch 35/50\n",
      "72/72 [==============================] - 28s 381ms/step - loss: 0.0016\n",
      "Epoch 36/50\n",
      "72/72 [==============================] - 28s 385ms/step - loss: 0.0015\n",
      "Epoch 37/50\n",
      "72/72 [==============================] - 29s 404ms/step - loss: 0.0016\n",
      "Epoch 38/50\n",
      "72/72 [==============================] - 31s 436ms/step - loss: 0.0015\n",
      "Epoch 39/50\n",
      "72/72 [==============================] - 31s 433ms/step - loss: 0.0015\n",
      "Epoch 40/50\n",
      "72/72 [==============================] - 31s 424ms/step - loss: 0.0015\n",
      "Epoch 41/50\n",
      "72/72 [==============================] - 31s 433ms/step - loss: 0.0014\n",
      "Epoch 42/50\n",
      "72/72 [==============================] - 31s 435ms/step - loss: 0.0014\n",
      "Epoch 43/50\n",
      "72/72 [==============================] - 31s 433ms/step - loss: 0.0016\n",
      "Epoch 44/50\n",
      "72/72 [==============================] - 32s 437ms/step - loss: 0.0014\n",
      "Epoch 45/50\n",
      "72/72 [==============================] - 32s 450ms/step - loss: 0.0014\n",
      "Epoch 46/50\n",
      "72/72 [==============================] - 32s 439ms/step - loss: 0.0015\n",
      "Epoch 47/50\n",
      "72/72 [==============================] - 31s 430ms/step - loss: 0.0014\n",
      "Epoch 48/50\n",
      "72/72 [==============================] - 31s 432ms/step - loss: 0.0014\n",
      "Epoch 49/50\n",
      "72/72 [==============================] - 32s 445ms/step - loss: 0.0014\n",
      "Epoch 50/50\n",
      "72/72 [==============================] - 33s 463ms/step - loss: 0.0015\n"
     ]
    },
    {
     "data": {
      "text/plain": [
       "<keras.src.callbacks.History at 0x24513c94460>"
      ]
     },
     "execution_count": 15,
     "metadata": {},
     "output_type": "execute_result"
    }
   ],
   "source": [
    "# compiling our model and data fitting\n",
    "model.compile(optimizer='adam', loss='mean_squared_error')\n",
    "model.fit(X_train, y_train, epochs=50)"
   ]
  },
  {
   "cell_type": "code",
   "execution_count": 16,
   "metadata": {},
   "outputs": [
    {
     "name": "stderr",
     "output_type": "stream",
     "text": [
      "c:\\D Drive\\My Projects\\Stock Prediction 2\\myenv\\lib\\site-packages\\keras\\src\\engine\\training.py:3000: UserWarning: You are saving your model as an HDF5 file via `model.save()`. This file format is considered legacy. We recommend using instead the native Keras format, e.g. `model.save('my_model.keras')`.\n",
      "  saving_api.save_model(\n"
     ]
    }
   ],
   "source": [
    "# svaing our model\n",
    "model.save('second_model.h5')"
   ]
  },
  {
   "cell_type": "code",
   "execution_count": 17,
   "metadata": {},
   "outputs": [],
   "source": [
    "# to predict the 1st 100 values of testing data we need the last 100 values of training data\n",
    "# we will concatenate them\n",
    "\n",
    "past_100_days = training.tail(100)\n",
    "final_df = pd.concat([past_100_days, testing], ignore_index=True)"
   ]
  },
  {
   "cell_type": "code",
   "execution_count": 18,
   "metadata": {},
   "outputs": [],
   "source": [
    "# scaling down final_df\n",
    "\n",
    "input_data = scaler.fit_transform(final_df)"
   ]
  },
  {
   "cell_type": "code",
   "execution_count": 19,
   "metadata": {},
   "outputs": [
    {
     "data": {
      "text/plain": [
       "array([[0.00298386],\n",
       "       [0.00386433],\n",
       "       [0.00105983],\n",
       "       ...,\n",
       "       [0.87034084],\n",
       "       [0.85357902],\n",
       "       [0.85677488]])"
      ]
     },
     "execution_count": 19,
     "metadata": {},
     "output_type": "execute_result"
    }
   ],
   "source": [
    "input_data"
   ]
  },
  {
   "cell_type": "code",
   "execution_count": 20,
   "metadata": {},
   "outputs": [
    {
     "name": "stdout",
     "output_type": "stream",
     "text": [
      "(1029, 100, 1)\n",
      "(1029,)\n"
     ]
    }
   ],
   "source": [
    "# classifying input_data into X_test and y_test\n",
    "\n",
    "X_test = []\n",
    "y_test = []\n",
    "\n",
    "for i in range(100, input_data.shape[0]):\n",
    "    X_test.append(input_data[i-100 : i])\n",
    "    y_test.append(input_data[i,0])\n",
    "\n",
    "#  converting the list to numpy array\n",
    "X_test, y_test = np.array(X_test), np.array(y_test)\n",
    "print(X_test.shape)\n",
    "print(y_test.shape)"
   ]
  },
  {
   "cell_type": "code",
   "execution_count": 21,
   "metadata": {},
   "outputs": [
    {
     "name": "stdout",
     "output_type": "stream",
     "text": [
      "33/33 [==============================] - 4s 98ms/step\n"
     ]
    },
    {
     "data": {
      "text/plain": [
       "(1029, 1)"
      ]
     },
     "execution_count": 21,
     "metadata": {},
     "output_type": "execute_result"
    }
   ],
   "source": [
    "y_pred = model.predict(X_test)\n",
    "y_pred\n",
    "y_pred.shape"
   ]
  },
  {
   "cell_type": "code",
   "execution_count": 22,
   "metadata": {},
   "outputs": [
    {
     "data": {
      "text/plain": [
       "array([0.00652209])"
      ]
     },
     "execution_count": 22,
     "metadata": {},
     "output_type": "execute_result"
    }
   ],
   "source": [
    "scaler.scale_"
   ]
  },
  {
   "cell_type": "code",
   "execution_count": 23,
   "metadata": {},
   "outputs": [],
   "source": [
    "# upscaling the data again to normal form\n",
    "scale_fac = 1/0.00963066\n",
    "y_pred = y_pred*scale_fac\n",
    "y_test = y_test*scale_fac"
   ]
  },
  {
   "cell_type": "code",
   "execution_count": 24,
   "metadata": {},
   "outputs": [
    {
     "data": {
      "image/png": "[encoded data removed]",
      "text/plain": [
       "<Figure size 1200x600 with 1 Axes>"
      ]
     },
     "metadata": {},
     "output_type": "display_data"
    }
   ],
   "source": [
    "plt.figure(figsize=(12,6))\n",
    "plt.plot(y_pred, 'r', label = 'Predicted Price')\n",
    "plt.plot(y_test, 'b', label = 'Original Price')\n",
    "plt.xlabel('Time')\n",
    "plt.ylabel('Price')\n",
    "plt.show()"
   ]
  },
  {
   "cell_type": "code",
   "execution_count": 25,
   "metadata": {},
   "outputs": [
    {
     "name": "stdout",
     "output_type": "stream",
     "text": [
      "(1029, 1)\n",
      "(1029,)\n",
      "[ 5.09440101  5.87828617  6.15256021 ... 90.37187944 88.63141424\n",
      " 88.96325668]\n",
      "[[ 9.99494 ]\n",
      " [10.030276]\n",
      " [10.063811]\n",
      " ...\n",
      " [86.34302 ]\n",
      " [86.15533 ]\n",
      " [86.15061 ]]\n"
     ]
    }
   ],
   "source": [
    "print(y_pred.shape)\n",
    "print(y_test.shape)\n",
    "print(y_test)\n",
    "print(y_pred)"
   ]
  },
  {
   "cell_type": "code",
   "execution_count": 26,
   "metadata": {},
   "outputs": [],
   "source": [
    "\n",
    "from sklearn.metrics import mean_squared_error, r2_score\n",
    "\n",
    "def calculate_metrics(y_test, y_pred):\n",
    "    mse = mean_squared_error(y_test, y_pred)\n",
    "    rmse = np.sqrt(mse)\n",
    "    r2 = r2_score(y_test, y_pred)\n",
    "\n",
    "    print(mse)\n",
    "    print(rmse)\n",
    "    print(r2)"
   ]
  },
  {
   "cell_type": "code",
   "execution_count": 27,
   "metadata": {},
   "outputs": [
    {
     "name": "stdout",
     "output_type": "stream",
     "text": [
      "14.416252095330263\n",
      "3.7968739899199004\n",
      "0.979129042553467\n"
     ]
    }
   ],
   "source": [
    "calculate_metrics(y_test, y_pred)"
   ]
  },
  {
   "cell_type": "code",
   "execution_count": null,
   "metadata": {},
   "outputs": [],
   "source": []
  }
 ],
 "metadata": {
  "kernelspec": {
   "display_name": "Python 3",
   "language": "python",
   "name": "python3"
  },
  "language_info": {
   "codemirror_mode": {
    "name": "ipython",
    "version": 3
   },
   "file_extension": ".py",
   "mimetype": "text/x-python",
   "name": "python",
   "nbconvert_exporter": "python",
   "pygments_lexer": "ipython3",
   "version": "3.10.11"
  },
  "orig_nbformat": 4
 },
 "nbformat": 4,
 "nbformat_minor": 2
}
